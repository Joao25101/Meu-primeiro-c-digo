{
  "nbformat": 4,
  "nbformat_minor": 0,
  "metadata": {
    "colab": {
      "provenance": []
    },
    "kernelspec": {
      "name": "python3",
      "display_name": "Python 3"
    },
    "language_info": {
      "name": "python"
    }
  },
  "cells": [
    {
      "cell_type": "code",
      "source": [
        "idade = int(input(\"digite sua idade: \"))\n",
        "if idade >= 18:\n",
        "  print(\"você é maior de idade \")\n",
        "\n",
        "else:\n",
        "  print(\"você é menor de idade \")"
      ],
      "metadata": {
        "colab": {
          "base_uri": "https://localhost:8080/"
        },
        "id": "Zr4wk0MK1ep5",
        "outputId": "f44ffdce-997b-444f-f05a-cc38addb2ddc"
      },
      "execution_count": null,
      "outputs": [
        {
          "output_type": "stream",
          "name": "stdout",
          "text": [
            "digite sua idade: 50\n",
            "você é maior de idade \n"
          ]
        }
      ]
    },
    {
      "cell_type": "code",
      "source": [
        "\n"
      ],
      "metadata": {
        "id": "Rc9jOTCX27gT"
      },
      "execution_count": null,
      "outputs": []
    }
  ]
}